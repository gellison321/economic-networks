{
 "cells": [
  {
   "cell_type": "markdown",
   "metadata": {},
   "source": [
    "# Exercise A.1.1\n",
    "\n",
    "Prove: $\\text{For all }a,b,c\\in\\R_+ \\text{ we have }|a\\wedge c - b\\wedge c| \\leq |a-b|\\wedge c$"
   ]
  },
  {
   "cell_type": "markdown",
   "metadata": {},
   "source": [
    "We know that $|a\\wedge c - b\\wedge c| \\leq |a-b|$, so we only need to show that $|a\\wedge c - b\\wedge c| \\leq c$\n",
    "\n",
    "There are a few obvious conditions:\n",
    "\n",
    "1. $a>c>b \\implies |c-b|\\leq c$ since $b<c$\n",
    "2. $a<c<b \\implies |a-c|\\leq c$ since $a<c$\n",
    "3. $a\\leq c \\geq b \\implies |a-b|\\leq c$ since both $a,b<c$, and $a=c=b \\implies |a-b|=0 < c$\n",
    "4. $a\\geq c \\leq b \\implies |c-c|=0 < c$\n",
    "\n",
    "$\\square$"
   ]
  },
  {
   "cell_type": "code",
   "execution_count": null,
   "metadata": {},
   "outputs": [],
   "source": []
  }
 ],
 "metadata": {
  "kernelspec": {
   "display_name": ".venv",
   "language": "python",
   "name": "python3"
  },
  "language_info": {
   "codemirror_mode": {
    "name": "ipython",
    "version": 3
   },
   "file_extension": ".py",
   "mimetype": "text/x-python",
   "name": "python",
   "nbconvert_exporter": "python",
   "pygments_lexer": "ipython3",
   "version": "3.11.7"
  }
 },
 "nbformat": 4,
 "nbformat_minor": 2
}
