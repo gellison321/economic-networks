{
 "cells": [
  {
   "cell_type": "markdown",
   "metadata": {},
   "source": [
    "# Exercise A.1.1\n",
    "\n",
    "Prove: $\\text{For all }a,b,c\\in\\mathbb{R}_+ \\text{ we have }|a\\wedge c - b\\wedge c| \\leq |a-b|\\wedge c$"
   ]
  },
  {
   "cell_type": "markdown",
   "metadata": {},
   "source": [
    "We know that $|a\\wedge c - b\\wedge c| \\leq |a-b|$, so we only need to show that $|a\\wedge c - b\\wedge c| \\leq c$\n",
    "\n",
    "Now suppose the counterfactual: $\\exists \\space  a,b,c\\in \\mathbb{R}_+ \\text{ such that } |a\\wedge c - b\\wedge c| > c $\n",
    "\n",
    "### Case 1: $a\\leq c$ and $b \\leq c$\n",
    "\n",
    "Therefore $|a\\wedge c - b\\wedge c| = |a-b|$\n",
    "\n",
    "And $|a-b|>c$\n",
    "\n",
    "But $|a-b|>c \\implies |a-b| \\wedge c = c$\n",
    "\n",
    "Which contradicts \n",
    "\n",
    "$ |a-b|\\wedge c \\leq c$\n",
    "\n",
    "\n",
    "### Case 2: $a \\leq c$ and $b\\geq c$\n",
    "\n",
    "Therefore $|a\\wedge c - b\\wedge c| = |a-c|$\n",
    "\n",
    "And $|a-c|>c$\n",
    "\n",
    "But since $ a\\leq c$ then |a-c|=c-a\\leq c$\n",
    "\n",
    "Which is a contradiction\n",
    "\n",
    "### Case 3: $a \\geq c$ and $b \\leq c$\n",
    "\n",
    "Which has the same contradiction as Case 2. \n",
    "\n",
    "### Case 4: $a\\leq c$ and $b\\leq c$\n",
    "\n",
    "Therefore $|a\\wedge c - b\\wedge c| = |c-c|$\n",
    "\n",
    "And $|c-c|=0>c$ is a contradiction\n",
    "\n",
    "\n",
    "$\\blacksquare$"
   ]
  },
  {
   "cell_type": "markdown",
   "metadata": {},
   "source": [
    "# A.1.2\n",
    "\n",
    "Let $S$ and $T$ be nonempty sets. For $f:S \\rightarrow T$, a function $g: T \\rightarrow S$ is called left inverse of $f$ if $g \\circ f = I$ where $I$ is the identity on $S$. Prove that $f$ is one-to-one if and only if $f$ has a left inverse."
   ]
  },
  {
   "cell_type": "markdown",
   "metadata": {},
   "source": [
    "Suppose $f$ is one-to-one. $f$ being one-to-one implies that $f(a)=f(a') \\implies a=a' \\space \\forall a\\in S$. \n",
    "\n",
    "We need to show that there does exist a function $g$ such that $g(f(a)) = a \\space \\forall a\\in S$\n",
    "\n",
    "$ f: S\\rightarrow T \\implies Im(f) \\subseteq T$\n",
    "\n",
    "For every $t\\in Im(f)$ there is exactly one $s\\in S$ such that $f(s)=t$ \n",
    "\n",
    "For each $t\\in Im(f) \\text{ let } g(t) = s \\space | \\space f(s) =t$\n",
    "\n",
    "For each $t \\notin T \\text{ let } g(t) \\text{ be arbitrary }$ \n",
    "\n",
    "$ \\text{ Then } \\forall s \\in S \\space g(f(s)) = s$\n",
    "\n",
    "$\\blacksquare$"
   ]
  },
  {
   "cell_type": "markdown",
   "metadata": {},
   "source": [
    "# A.1.3\n",
    "\n",
    "Let $S$ be any set, and let $G$ be a self-map on $S$. Suppose there exist an $\\bar{x}\\in S$ and an $m\\in \\N$ such that $G^kx = \\bar{x} \\text{ for all } x\\in S \\text{ and } k \\geq m$. Prove that, under this condition, $\\bar{x}$ is the unique fixed point of $G$ in $S$."
   ]
  },
  {
   "cell_type": "markdown",
   "metadata": {},
   "source": [
    "A self-map is a function $G: S \\rightarrow S$. That is, the domain and image of $G$ are both $S$. The significance of $k$ is that it counts the number of times $G$ is applied. For example, $G^2(x) = G(G(x))$.\n",
    "\n",
    "Assume the counterfactual: $\\exists \\space y\\in S \\space | G^kx = y \\text{ and } y \\neq \\bar{x}$ that there exists another fixed point $y \\in S$, with $y \\neq \\bar{x}$. That is, $G(y) = y \\text{ and } y \\neq \\bar{x}$\n",
    "\n",
    "$G^k(y) = y  \\quad \\forall\\space k \\geq 1$ by definition of a fixed point.\n",
    "\n",
    "By supposition, applying $G$ $k \\geq m$ times to any element of $S$ yields $\\bar{x}$. \n",
    "\n",
    "$G^k(y) = \\bar{x}  \\quad \\forall \\space k \\geq m$\n",
    "\n",
    "$\\forall \\quad k \\geq m\\quad y = G^m(y) = \\bar{x}$ which contradicts our assumption that $y \\neq \\bar{x}$.\n",
    "\n",
    "$\\blacksquare$\n"
   ]
  },
  {
   "cell_type": "markdown",
   "metadata": {},
   "source": [
    "# A.1.4"
   ]
  },
  {
   "cell_type": "markdown",
   "metadata": {},
   "source": [
    "Show that, for any $u,v\\in\\mathbb{C}$ we have $|uv|=|u||v|$"
   ]
  },
  {
   "cell_type": "markdown",
   "metadata": {},
   "source": [
    "$|j| = \\sqrt{a^2+b^2} \\text{ where } j = a+ib$\n",
    "\n",
    "$uv = (a_u+ib_u)(a_v+ib_v)$\n",
    "\n",
    "$= a_ua_v + a_uib_v + a_vib_u + ib_uib_v$\n",
    "\n",
    "$= a_ua_v + a_uib_v + a_vib_u - b_ub_v$\n",
    "\n",
    "$= (a_ua_v - b_ub_v) + i(a_ub_v + a_vb_u)$\n",
    "\n",
    "$|uv| = \\sqrt{(a_ua_v - b_ub_v)^2 + i(a_ub_v + a_vb_u)^2}$\n",
    "\n",
    "$= \\sqrt{\n",
    "    a_u^2a_v^2 + b_u^2b_v^2 - 2a_ua_vb_ub_v + a_u^2b_v^2 + a_v^2b_u^2 + 2a_ub_va_vb_u\n",
    "}$\n",
    "\n",
    "$= \\sqrt{\n",
    "         a_u^2a_v^2 + b_u^2b_v^2 + a_u^2b_v^2 + a_v^2b_u^2\n",
    "}$\n",
    "\n",
    "$= \\sqrt{\n",
    "    (a_u^2+b_u^2)(a_v^2+b_v^2)\n",
    "}$\n",
    "\n",
    "$= \\sqrt{(a_u^2+b_u^2)}\\sqrt{(a_v^2+b_v^2)}$\n",
    "\n",
    "$=|u||v|$"
   ]
  }
 ],
 "metadata": {
  "kernelspec": {
   "display_name": ".venv",
   "language": "python",
   "name": "python3"
  },
  "language_info": {
   "codemirror_mode": {
    "name": "ipython",
    "version": 3
   },
   "file_extension": ".py",
   "mimetype": "text/x-python",
   "name": "python",
   "nbconvert_exporter": "python",
   "pygments_lexer": "ipython3",
   "version": "3.11.7"
  }
 },
 "nbformat": 4,
 "nbformat_minor": 2
}
